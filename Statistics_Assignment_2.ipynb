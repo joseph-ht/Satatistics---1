{
 "cells": [
  {
   "cell_type": "markdown",
   "metadata": {
    "id": "K7S4cEyZLTp7"
   },
   "source": [
    "## Descriptive Statistics"
   ]
  },
  {
   "cell_type": "markdown",
   "metadata": {
    "id": "vZRYVyc8H7hi"
   },
   "source": [
    " Import **NumPy**, **SciPy**, and **Pandas**"
   ]
  },
  {
   "cell_type": "code",
   "execution_count": 3,
   "metadata": {
    "id": "7ShN0klrHIk3"
   },
   "outputs": [],
   "source": [
    "import numpy as np\n",
    "import pandas as pd\n",
    "from scipy import stats "
   ]
  },
  {
   "cell_type": "markdown",
   "metadata": {
    "id": "_SaQURIqIA6d"
   },
   "source": [
    " Randomly generate 1,000 samples from the normal distribution using `np.random.normal()`(mean = 100, standard deviation = 15)"
   ]
  },
  {
   "cell_type": "code",
   "execution_count": 10,
   "metadata": {
    "id": "Jyw_FMX0IRkm"
   },
   "outputs": [],
   "source": [
    "samples = np.random.normal(100, 15, 1000)"
   ]
  },
  {
   "cell_type": "markdown",
   "metadata": {
    "id": "CDF8m3a4IYOC"
   },
   "source": [
    "Compute the **mean**, **median**, and **mode**"
   ]
  },
  {
   "cell_type": "code",
   "execution_count": 14,
   "metadata": {
    "id": "ZKbeqxaKIoNs"
   },
   "outputs": [
    {
     "name": "stdout",
     "output_type": "stream",
     "text": [
      "100.60213974928008 101.0529495151358 ModeResult(mode=array([56.56351308]), count=array([1]))\n"
     ]
    }
   ],
   "source": [
    "mean = samples.mean()\n",
    "median = np.median(samples)\n",
    "mode = stats.mode(samples)\n",
    "print(mean, median, mode)"
   ]
  },
  {
   "cell_type": "markdown",
   "metadata": {
    "id": "skT8m39XI60w"
   },
   "source": [
    "Compute the **min**, **max**, **Q1**, **Q3**, and **interquartile range**"
   ]
  },
  {
   "cell_type": "code",
   "execution_count": 21,
   "metadata": {
    "id": "VaiDphm8It0O"
   },
   "outputs": [
    {
     "name": "stdout",
     "output_type": "stream",
     "text": [
      "56.56351308437858 150.9629179289552 4.828376369812801\n"
     ]
    }
   ],
   "source": [
    "min = samples.min()\n",
    "max = samples.max()\n",
    "q1 = np.percentile (samples, 0.25)\n",
    "q3 = np.percentile (samples, 0.75)\n",
    "iqr = q3-q1\n",
    "print(min, max, iqr)"
   ]
  },
  {
   "cell_type": "markdown",
   "metadata": {
    "id": "m53Dv3n5JHQi"
   },
   "source": [
    "Compute the **variance** and **standard deviation**"
   ]
  },
  {
   "cell_type": "code",
   "execution_count": 23,
   "metadata": {
    "id": "6JFaAYdrJbeN"
   },
   "outputs": [
    {
     "name": "stdout",
     "output_type": "stream",
     "text": [
      "239.2766065977149 15.468568343505966\n"
     ]
    }
   ],
   "source": [
    "variance = samples.var()\n",
    "std_dev = samples.std()\n",
    "print(variance, std_dev)"
   ]
  },
  {
   "cell_type": "markdown",
   "metadata": {
    "id": "5eup4hI1JzqX"
   },
   "source": [
    "Compute the **skewness** and **kurtosis**"
   ]
  },
  {
   "cell_type": "code",
   "execution_count": 25,
   "metadata": {
    "id": "YO3obyDnJ3_D"
   },
   "outputs": [
    {
     "name": "stdout",
     "output_type": "stream",
     "text": [
      "0.08835094832573956 -0.002531356617903935\n"
     ]
    }
   ],
   "source": [
    "skewness = stats.skew(samples)\n",
    "kurtosis = stats.kurtosis(samples)\n",
    "print(skewness, kurtosis)"
   ]
  },
  {
   "cell_type": "markdown",
   "metadata": {
    "id": "a5UNc8PUKnbU"
   },
   "source": [
    "## NumPy Correlation Calculation"
   ]
  },
  {
   "cell_type": "markdown",
   "metadata": {
    "id": "cLiqxE1CMNTg"
   },
   "source": [
    "Create an array x of integers between 10 (inclusive) and 20 (exclusive). Use `np.arange()`"
   ]
  },
  {
   "cell_type": "code",
   "execution_count": 27,
   "metadata": {
    "id": "5LAaQ6w5L-2L"
   },
   "outputs": [
    {
     "data": {
      "text/plain": [
       "array([10, 11, 12, 13, 14, 15, 16, 17, 18, 19])"
      ]
     },
     "execution_count": 27,
     "metadata": {},
     "output_type": "execute_result"
    }
   ],
   "source": [
    "x = np.arange(10,20)\n",
    "x"
   ]
  },
  {
   "cell_type": "markdown",
   "metadata": {
    "id": "qyCIaukNMZPf"
   },
   "source": [
    "Then use `np.array()` to create a second array y containing 10 arbitrary integers."
   ]
  },
  {
   "cell_type": "code",
   "execution_count": 41,
   "metadata": {
    "id": "p27eW__gNMdh"
   },
   "outputs": [
    {
     "data": {
      "text/plain": [
       "array([[7, 2, 5, 8, 3, 7, 5, 2, 5, 3]])"
      ]
     },
     "execution_count": 41,
     "metadata": {},
     "output_type": "execute_result"
    }
   ],
   "source": [
    "y = np.random.randint(10,size=(1,10))\n",
    "y"
   ]
  },
  {
   "cell_type": "markdown",
   "metadata": {
    "id": "Kh_VeKwINSqS"
   },
   "source": [
    "Once you have two arrays of the same length, you can compute the **correlation coefficient** between x and y"
   ]
  },
  {
   "cell_type": "code",
   "execution_count": 43,
   "metadata": {
    "id": "yrtC6rPkNSDC"
   },
   "outputs": [
    {
     "data": {
      "text/plain": [
       "array([[ 1.       , -0.2969409],\n",
       "       [-0.2969409,  1.       ]])"
      ]
     },
     "execution_count": 43,
     "metadata": {},
     "output_type": "execute_result"
    }
   ],
   "source": [
    "r = np.corrcoef(x,y)\n",
    "r"
   ]
  },
  {
   "cell_type": "markdown",
   "metadata": {
    "id": "vXieLjYiNtPi"
   },
   "source": [
    "## Pandas Correlation Calculation"
   ]
  },
  {
   "cell_type": "markdown",
   "metadata": {
    "id": "z56t0k0qNvkr"
   },
   "source": [
    "Run the code below"
   ]
  },
  {
   "cell_type": "code",
   "execution_count": 44,
   "metadata": {
    "id": "9AVBMJCyNuwb"
   },
   "outputs": [],
   "source": [
    "x = pd.Series(range(10, 20))\n",
    "y = pd.Series([2, 1, 4, 5, 8, 12, 18, 25, 96, 48])"
   ]
  },
  {
   "cell_type": "markdown",
   "metadata": {
    "id": "ZajVXYe2OCih"
   },
   "source": [
    "Call the relevant method  to calculate Pearson's r correlation."
   ]
  },
  {
   "cell_type": "code",
   "execution_count": 47,
   "metadata": {
    "id": "Ak_rkzbLOafj"
   },
   "outputs": [
    {
     "data": {
      "text/plain": [
       "0.7586402890911867"
      ]
     },
     "execution_count": 47,
     "metadata": {},
     "output_type": "execute_result"
    }
   ],
   "source": [
    "r = x.corr(y, method='pearson')\n",
    "r"
   ]
  },
  {
   "cell_type": "markdown",
   "metadata": {
    "id": "1CygSbnROb9V"
   },
   "source": [
    "OPTIONAL. Call the relevant method to calculate Spearman's rho correlation."
   ]
  },
  {
   "cell_type": "code",
   "execution_count": 48,
   "metadata": {
    "id": "xp_QkXwmOlYY"
   },
   "outputs": [
    {
     "data": {
      "text/plain": [
       "0.9757575757575757"
      ]
     },
     "execution_count": 48,
     "metadata": {},
     "output_type": "execute_result"
    }
   ],
   "source": [
    "rho = x.corr(y, method='spearman')\n",
    "rho"
   ]
  },
  {
   "cell_type": "markdown",
   "metadata": {
    "id": "we7pg7kdOo7y"
   },
   "source": [
    "## Seaborn Dataset Tips"
   ]
  },
  {
   "cell_type": "markdown",
   "metadata": {
    "id": "VlzgFKN7OvqX"
   },
   "source": [
    "Import Seaborn Library"
   ]
  },
  {
   "cell_type": "code",
   "execution_count": 49,
   "metadata": {
    "id": "t-49JRRqO4pw"
   },
   "outputs": [],
   "source": [
    "import seaborn as sns"
   ]
  },
  {
   "cell_type": "markdown",
   "metadata": {
    "id": "0INVBB4tO4y4"
   },
   "source": [
    "Load \"tips\" dataset from Seaborn"
   ]
  },
  {
   "cell_type": "code",
   "execution_count": 50,
   "metadata": {
    "id": "kieLvcM1PBv7"
   },
   "outputs": [],
   "source": [
    "tips = sns.load_dataset(\"tips\")"
   ]
  },
  {
   "cell_type": "markdown",
   "metadata": {
    "id": "o2ISqVQrPh5S"
   },
   "source": [
    "Generate descriptive statistics include those that summarize the central tendency, dispersion"
   ]
  },
  {
   "cell_type": "code",
   "execution_count": 52,
   "metadata": {
    "id": "FyFvmdbJPVg6"
   },
   "outputs": [
    {
     "data": {
      "text/html": [
       "<div>\n",
       "<style scoped>\n",
       "    .dataframe tbody tr th:only-of-type {\n",
       "        vertical-align: middle;\n",
       "    }\n",
       "\n",
       "    .dataframe tbody tr th {\n",
       "        vertical-align: top;\n",
       "    }\n",
       "\n",
       "    .dataframe thead th {\n",
       "        text-align: right;\n",
       "    }\n",
       "</style>\n",
       "<table border=\"1\" class=\"dataframe\">\n",
       "  <thead>\n",
       "    <tr style=\"text-align: right;\">\n",
       "      <th></th>\n",
       "      <th>count</th>\n",
       "      <th>mean</th>\n",
       "      <th>std</th>\n",
       "      <th>min</th>\n",
       "      <th>25%</th>\n",
       "      <th>50%</th>\n",
       "      <th>75%</th>\n",
       "      <th>max</th>\n",
       "    </tr>\n",
       "  </thead>\n",
       "  <tbody>\n",
       "    <tr>\n",
       "      <th>total_bill</th>\n",
       "      <td>244.0</td>\n",
       "      <td>19.785943</td>\n",
       "      <td>8.902412</td>\n",
       "      <td>3.07</td>\n",
       "      <td>13.3475</td>\n",
       "      <td>17.795</td>\n",
       "      <td>24.1275</td>\n",
       "      <td>50.81</td>\n",
       "    </tr>\n",
       "    <tr>\n",
       "      <th>tip</th>\n",
       "      <td>244.0</td>\n",
       "      <td>2.998279</td>\n",
       "      <td>1.383638</td>\n",
       "      <td>1.00</td>\n",
       "      <td>2.0000</td>\n",
       "      <td>2.900</td>\n",
       "      <td>3.5625</td>\n",
       "      <td>10.00</td>\n",
       "    </tr>\n",
       "    <tr>\n",
       "      <th>size</th>\n",
       "      <td>244.0</td>\n",
       "      <td>2.569672</td>\n",
       "      <td>0.951100</td>\n",
       "      <td>1.00</td>\n",
       "      <td>2.0000</td>\n",
       "      <td>2.000</td>\n",
       "      <td>3.0000</td>\n",
       "      <td>6.00</td>\n",
       "    </tr>\n",
       "  </tbody>\n",
       "</table>\n",
       "</div>"
      ],
      "text/plain": [
       "            count       mean       std   min      25%     50%      75%    max\n",
       "total_bill  244.0  19.785943  8.902412  3.07  13.3475  17.795  24.1275  50.81\n",
       "tip         244.0   2.998279  1.383638  1.00   2.0000   2.900   3.5625  10.00\n",
       "size        244.0   2.569672  0.951100  1.00   2.0000   2.000   3.0000   6.00"
      ]
     },
     "execution_count": 52,
     "metadata": {},
     "output_type": "execute_result"
    }
   ],
   "source": [
    "tips.describe().T"
   ]
  },
  {
   "cell_type": "code",
   "execution_count": 63,
   "metadata": {
    "scrolled": true
   },
   "outputs": [
    {
     "data": {
      "text/plain": [
       "<AxesSubplot:>"
      ]
     },
     "execution_count": 63,
     "metadata": {},
     "output_type": "execute_result"
    },
    {
     "data": {
      "image/png": "[encoded data removed]",
      "text/plain": [
       "<Figure size 432x288 with 1 Axes>"
      ]
     },
     "metadata": {
      "needs_background": "light"
     },
     "output_type": "display_data"
    }
   ],
   "source": [
    "tips.boxplot()"
   ]
  },
  {
   "cell_type": "code",
   "execution_count": 64,
   "metadata": {},
   "outputs": [
    {
     "data": {
      "text/plain": [
       "array([[<AxesSubplot:title={'center':'total_bill'}>,\n",
       "        <AxesSubplot:title={'center':'tip'}>],\n",
       "       [<AxesSubplot:title={'center':'size'}>, <AxesSubplot:>]],\n",
       "      dtype=object)"
      ]
     },
     "execution_count": 64,
     "metadata": {},
     "output_type": "execute_result"
    },
    {
     "data": {
      "image/png": "[encoded data removed]",
      "text/plain": [
       "<Figure size 432x288 with 4 Axes>"
      ]
     },
     "metadata": {
      "needs_background": "light"
     },
     "output_type": "display_data"
    }
   ],
   "source": [
    "tips.hist()"
   ]
  },
  {
   "cell_type": "markdown",
   "metadata": {
    "id": "3yCRK4VJPzRo"
   },
   "source": [
    "Call the relevant method to calculate pairwise Pearson's r correlation of columns"
   ]
  },
  {
   "cell_type": "code",
   "execution_count": 65,
   "metadata": {
    "id": "qwvGzDU8PGnM"
   },
   "outputs": [
    {
     "data": {
      "text/html": [
       "<div>\n",
       "<style scoped>\n",
       "    .dataframe tbody tr th:only-of-type {\n",
       "        vertical-align: middle;\n",
       "    }\n",
       "\n",
       "    .dataframe tbody tr th {\n",
       "        vertical-align: top;\n",
       "    }\n",
       "\n",
       "    .dataframe thead th {\n",
       "        text-align: right;\n",
       "    }\n",
       "</style>\n",
       "<table border=\"1\" class=\"dataframe\">\n",
       "  <thead>\n",
       "    <tr style=\"text-align: right;\">\n",
       "      <th></th>\n",
       "      <th>total_bill</th>\n",
       "      <th>tip</th>\n",
       "      <th>size</th>\n",
       "    </tr>\n",
       "  </thead>\n",
       "  <tbody>\n",
       "    <tr>\n",
       "      <th>total_bill</th>\n",
       "      <td>1.000000</td>\n",
       "      <td>0.675734</td>\n",
       "      <td>0.598315</td>\n",
       "    </tr>\n",
       "    <tr>\n",
       "      <th>tip</th>\n",
       "      <td>0.675734</td>\n",
       "      <td>1.000000</td>\n",
       "      <td>0.489299</td>\n",
       "    </tr>\n",
       "    <tr>\n",
       "      <th>size</th>\n",
       "      <td>0.598315</td>\n",
       "      <td>0.489299</td>\n",
       "      <td>1.000000</td>\n",
       "    </tr>\n",
       "  </tbody>\n",
       "</table>\n",
       "</div>"
      ],
      "text/plain": [
       "            total_bill       tip      size\n",
       "total_bill    1.000000  0.675734  0.598315\n",
       "tip           0.675734  1.000000  0.489299\n",
       "size          0.598315  0.489299  1.000000"
      ]
     },
     "execution_count": 65,
     "metadata": {},
     "output_type": "execute_result"
    }
   ],
   "source": [
    "tips.corr('pearson')"
   ]
  }
 ],
 "metadata": {
  "colab": {
   "collapsed_sections": [],
   "name": "Copy of Statistics Assignment-2.ipynb",
   "provenance": []
  },
  "kernelspec": {
   "display_name": "Python 3",
   "language": "python",
   "name": "python3"
  },
  "language_info": {
   "codemirror_mode": {
    "name": "ipython",
    "version": 3
   },
   "file_extension": ".py",
   "mimetype": "text/x-python",
   "name": "python",
   "nbconvert_exporter": "python",
   "pygments_lexer": "ipython3",
   "version": "3.8.5"
  }
 },
 "nbformat": 4,
 "nbformat_minor": 1
}
